{
 "cells": [
  {
   "attachments": {},
   "cell_type": "markdown",
   "metadata": {},
   "source": [
    "## Imports and constants"
   ]
  },
  {
   "cell_type": "code",
   "execution_count": 1,
   "metadata": {},
   "outputs": [],
   "source": [
    "import numpy as np\n",
    "import pandas as pd"
   ]
  },
  {
   "cell_type": "code",
   "execution_count": 2,
   "metadata": {},
   "outputs": [],
   "source": [
    "X_PATH = 'data/preprocessed_data/X.csv'\n",
    "Y_PATH = 'data/preprocessed_data/y.csv'\n",
    "\n",
    "TF_PATH = 'data/track_features/tf_mini.csv'\n",
    "SESSION_PATH = 'data/training_set/log_mini.csv'"
   ]
  },
  {
   "attachments": {},
   "cell_type": "markdown",
   "metadata": {},
   "source": [
    "## Track Feature Data"
   ]
  },
  {
   "cell_type": "code",
   "execution_count": 6,
   "metadata": {},
   "outputs": [
    {
     "name": "stdout",
     "output_type": "stream",
     "text": [
      "Index(['track_id', 'duration', 'release_year', 'us_popularity_estimate',\n",
      "       'acousticness', 'beat_strength', 'bounciness', 'danceability',\n",
      "       'dyn_range_mean', 'energy', 'flatness', 'instrumentalness', 'key',\n",
      "       'liveness', 'loudness', 'mechanism', 'mode', 'organism', 'speechiness',\n",
      "       'tempo', 'time_signature', 'valence', 'acoustic_vector_0',\n",
      "       'acoustic_vector_1', 'acoustic_vector_2', 'acoustic_vector_3',\n",
      "       'acoustic_vector_4', 'acoustic_vector_5', 'acoustic_vector_6',\n",
      "       'acoustic_vector_7'],\n",
      "      dtype='object')\n",
      "                                 track_id    duration  release_year  \\\n",
      "0  t_a540e552-16d4-42f8-a185-232bd650ea7d  109.706673          1950   \n",
      "1  t_67965da0-132b-4b1e-8a69-0ef99b32287c  187.693329          1950   \n",
      "2  t_0614ecd3-a7d5-40a1-816e-156d5872a467  160.839996          1951   \n",
      "3  t_070a63a0-744a-434e-9913-a97b02926a29  175.399994          1951   \n",
      "4  t_d6990e17-9c31-4b01-8559-47d9ce476df1  369.600006          1951   \n",
      "5  t_fcb90952-0c6d-4644-86ac-951f6ec4b3ff  178.399994          1951   \n",
      "6  t_20675f8a-3a40-40b8-aa9b-0ce64536c65b  165.826675          1952   \n",
      "7  t_7577ca53-5d0b-489b-a6df-ade8bbc895ef  197.826675          1952   \n",
      "8  t_8a461a4e-62e4-4e00-8433-f7f034fa9887  214.866669          1954   \n",
      "9  t_ae523005-8e7b-4746-abb7-3f401b973a33  281.160004          1954   \n",
      "\n",
      "   us_popularity_estimate  acousticness  beat_strength  bounciness  \\\n",
      "0               99.975414      0.458040       0.519497    0.504949   \n",
      "1               99.969430      0.916272       0.419223    0.545530   \n",
      "2               99.602549      0.812884       0.425890    0.508280   \n",
      "3               99.665018      0.396854       0.400934    0.359990   \n",
      "4               99.991764      0.728831       0.371328    0.335115   \n",
      "5               99.983870      0.185908       0.549373    0.579418   \n",
      "6               99.958695      0.518601       0.592388    0.640258   \n",
      "7               99.454159      0.786521       0.472212    0.448498   \n",
      "8               99.983466      0.155316       0.525873    0.566486   \n",
      "9               97.436986      0.941446       0.232828    0.209133   \n",
      "\n",
      "   danceability  dyn_range_mean    energy  ...  time_signature   valence  \\\n",
      "0      0.399767        7.511880  0.817709  ...               4  0.935512   \n",
      "1      0.491235        9.098376  0.154258  ...               3  0.359675   \n",
      "2      0.491625        8.368670  0.358813  ...               4  0.726769   \n",
      "3      0.552227        5.967346  0.514585  ...               4  0.859075   \n",
      "4      0.483044        5.802681  0.721442  ...               4  0.562343   \n",
      "5      0.743740        8.666988  0.567959  ...               4  0.686689   \n",
      "6      0.740621        9.531035  0.614633  ...               4  0.798964   \n",
      "7      0.426819        6.914297  0.217525  ...               4  0.381079   \n",
      "8      0.523287        8.629132  0.626335  ...               4  0.916642   \n",
      "9      0.242102        4.826611  0.095803  ...               4  0.073532   \n",
      "\n",
      "   acoustic_vector_0  acoustic_vector_1  acoustic_vector_2  acoustic_vector_3  \\\n",
      "0          -0.033284          -0.411896          -0.028580           0.349438   \n",
      "1           0.145703          -0.850372           0.123860           0.746904   \n",
      "2           0.021720          -0.743634           0.333247           0.568447   \n",
      "3           0.039143          -0.267555          -0.051825           0.106173   \n",
      "4           0.131931          -0.292523          -0.174819          -0.034422   \n",
      "5          -0.223427          -0.360527           0.362998           0.339622   \n",
      "6           0.065862          -0.346759           0.043067           0.311622   \n",
      "7          -0.015347          -0.512293           0.186001           0.461546   \n",
      "8           0.044946          -0.148084          -0.041229          -0.002689   \n",
      "9           0.234917          -0.599026           0.232939           0.449952   \n",
      "\n",
      "  acoustic_vector_4  acoustic_vector_5  acoustic_vector_6  acoustic_vector_7  \n",
      "0          0.832467          -0.213871          -0.299464          -0.675907  \n",
      "1          0.371803          -0.420558          -0.213120          -0.525795  \n",
      "2          0.411094          -0.187749          -0.387599          -0.433496  \n",
      "3          0.614825          -0.111419          -0.265953          -0.542753  \n",
      "4          0.717229          -0.016239          -0.392694          -0.455496  \n",
      "5          0.402456          -0.071626          -0.321007          -0.414255  \n",
      "6          0.751019          -0.166286          -0.240193          -0.859687  \n",
      "7          0.649840          -0.212254          -0.312480          -0.761987  \n",
      "8          0.563805          -0.039093          -0.376067          -0.621552  \n",
      "9          0.288230          -0.178990          -0.103595          -0.473541  \n",
      "\n",
      "[10 rows x 30 columns]\n"
     ]
    }
   ],
   "source": [
    "tf_data = pd.read_csv(TF_PATH)\n",
    "\n",
    "labels = tf_data.columns.tolist()\n",
    "print(labels)\n",
    "\n",
    "print(tf_data.head(10))"
   ]
  },
  {
   "attachments": {},
   "cell_type": "markdown",
   "metadata": {},
   "source": [
    "## Session Data"
   ]
  },
  {
   "attachments": {},
   "cell_type": "markdown",
   "metadata": {},
   "source": [
    "## X and y"
   ]
  }
 ],
 "metadata": {
  "kernelspec": {
   "display_name": "Python 3",
   "language": "python",
   "name": "python3"
  },
  "language_info": {
   "codemirror_mode": {
    "name": "ipython",
    "version": 3
   },
   "file_extension": ".py",
   "mimetype": "text/x-python",
   "name": "python",
   "nbconvert_exporter": "python",
   "pygments_lexer": "ipython3",
   "version": "3.10.9"
  },
  "orig_nbformat": 4,
  "vscode": {
   "interpreter": {
    "hash": "e7370f93d1d0cde622a1f8e1c04877d8463912d04d973331ad4851f04de6915a"
   }
  }
 },
 "nbformat": 4,
 "nbformat_minor": 2
}
